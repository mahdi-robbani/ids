{
 "cells": [
  {
   "cell_type": "markdown",
   "metadata": {},
   "source": [
    "# Exercise 1\n",
    "\n",
    "1. Write explicitly the probability density function of $\\epsilon$.  \n",
    "$$\\epsilon = \\frac{1}{\\sigma\\sqrt{2\\pi}}e^{-\\frac{1}{2}(\\frac{x}{\\sigma})^2}$$\n",
    "2. From it write the conditional probability distribution of $y$ knowing $a$, $x$ and $b$, i.e., the probability of observing $y$ knowing $a$, $x$ and $b$.  \n",
    "$$P(y|f(x,a,b),\\sigma) = \\frac{1}{\\sigma\\sqrt{2\\pi}}e^{-\\frac{1}{2}(\\frac{f(x,a,b) - y}{\\sigma})^2}$$\n",
    "3. What are the parameters of the linear model?  \n",
    "The parameters of the model are $x$, $a$, $b$ and $\\sigma$\n",
    "4. In a Bayesian treatment of the linear model, how many priors are needed, and over which parameters. Can you use Gaussian priors for all parameters?  \n",
    "Three priors are needed for a, b, and \\sigma. We can use a gaussian prior for \\sigma I guess. This one needs some work."
   ]
  },
  {
   "cell_type": "code",
   "execution_count": null,
   "metadata": {},
   "outputs": [],
   "source": []
  }
 ],
 "metadata": {
  "kernelspec": {
   "display_name": "Python 3",
   "language": "python",
   "name": "python3"
  },
  "language_info": {
   "codemirror_mode": {
    "name": "ipython",
    "version": 3
   },
   "file_extension": ".py",
   "mimetype": "text/x-python",
   "name": "python",
   "nbconvert_exporter": "python",
   "pygments_lexer": "ipython3",
   "version": "3.7.4"
  }
 },
 "nbformat": 4,
 "nbformat_minor": 4
}
