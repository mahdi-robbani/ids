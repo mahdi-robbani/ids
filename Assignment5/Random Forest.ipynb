{
 "cells": [
  {
   "cell_type": "markdown",
   "metadata": {},
   "source": [
    "# Exerise 4\n",
    "**(Random forest & normalization). As discussed, normalizing each component to zero mean and variance one (measured on the training set) is a common preprocessing step, which can remove undesired biases due to different scaling.\n",
    "Using this normalization affects different classiffcation methods differently. How does it affect a random forest classiffer?**\n",
    "> The random forest is made up of many decision trees. Each decision tree is highly affected by variance. Normalizing the data will reduce the effect of variance on each tree, therefore it will improve the overall result of the forest.\n"
   ]
  },
  {
   "cell_type": "code",
   "execution_count": 7,
   "metadata": {},
   "outputs": [
    {
     "name": "stdout",
     "output_type": "stream",
     "text": [
      " Accuray of Random Forest: 0.9668989547038328\n"
     ]
    }
   ],
   "source": [
    "import numpy as np\n",
    "from sklearn.ensemble import RandomForestClassifier\n",
    "# read in the data\n",
    "dataTrain = np.loadtxt('IDSWeedCropTrain.csv', delimiter = ',')\n",
    "dataTest = np.loadtxt('IDSWeedCropTest.csv', delimiter = ',')\n",
    "# split input variables and labels\n",
    "XTrain = dataTrain[:,:-1]\n",
    "YTrain = dataTrain[:,-1]\n",
    "XTest = dataTest[:,:-1]\n",
    "YTest = dataTest[:,-1]\n",
    "\n",
    "RF = RandomForestClassifier(n_estimators=50)\n",
    "RF = RF.fit(XTrain, YTrain)\n",
    "RF_score = RF.score(XTest, YTest)\n",
    "print(f\" Accuray of Random Forest: {RF_score}\")"
   ]
  },
  {
   "cell_type": "markdown",
   "metadata": {},
   "source": [
    "KNN achieved an accuracy of 0.945993031358885 there the Random Forest method is more accurate"
   ]
  }
 ],
 "metadata": {
  "kernelspec": {
   "display_name": "Python 3",
   "language": "python",
   "name": "python3"
  },
  "language_info": {
   "codemirror_mode": {
    "name": "ipython",
    "version": 3
   },
   "file_extension": ".py",
   "mimetype": "text/x-python",
   "name": "python",
   "nbconvert_exporter": "python",
   "pygments_lexer": "ipython3",
   "version": "3.7.4"
  }
 },
 "nbformat": 4,
 "nbformat_minor": 4
}
