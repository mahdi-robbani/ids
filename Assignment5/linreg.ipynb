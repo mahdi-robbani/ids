{
 "cells": [
  {
   "cell_type": "code",
   "execution_count": 83,
   "metadata": {},
   "outputs": [],
   "source": [
    "# input: 1) X: the independent variables (data matrix), an (N x D)-dimensional matrix, as a numpy array\n",
    "#        2) y: the dependent variable, an N-dimensional vector, as a numpy array\n",
    "## output: 1) the regression coefficients, a (D+1)-dimensional vector, as a numpy array\n",
    "## note: remember to either expect an initial column of 1's in the input X, or to append this within your code"
   ]
  },
  {
   "cell_type": "code",
   "execution_count": 29,
   "metadata": {},
   "outputs": [],
   "source": [
    "# Exercise 2\n",
    "import numpy as np\n",
    "\n",
    "def multivarlinreg(X, y):\n",
    "    X = add_one(X)\n",
    "    w = np.linalg.inv(X.T @ X) @ X.T @ y\n",
    "    return w\n",
    "    \n",
    "def add_one(X):\n",
    "    row = len(X)\n",
    "    one_col = np.ones(row)\n",
    "    X = np.c_[one_col, X]\n",
    "    return X\n",
    "\n",
    "def print_names(weights, names):\n",
    "    for i in range(len(weights)):\n",
    "        print(f\"{names[i]}:  {weights[i]}\")\n",
    "    print(\"\\n\")\n",
    "    \n",
    "def normalize_data(source, target):\n",
    "    '''Takes in a source array and a target array. Normalizes the target array based on the source array'''\n",
    "    mean = np.mean(source, axis = 0)\n",
    "    sd = np.std(source, axis = 0)\n",
    "    target = (target - mean)/sd\n",
    "    return target"
   ]
  },
  {
   "cell_type": "code",
   "execution_count": 30,
   "metadata": {},
   "outputs": [
    {
     "name": "stdout",
     "output_type": "stream",
     "text": [
      "Weights for first feature:\n",
      "Intercept:  [5.626]\n",
      "Fixed acidity:  [0.08766808]\n",
      "\n",
      "\n",
      "Weights for all features:\n",
      "Intercept:  [5.626]\n",
      "Fixed acidity:  [0.03409503]\n",
      "Volatile acidity:  [-0.19185531]\n",
      "Citric acid:  [0.00506797]\n",
      "Residual sugar:  [0.06966651]\n",
      "Chlorides:  [-0.13472303]\n",
      "Free sulfur dioxide:  [0.05831775]\n",
      "Total sulfur dioxide:  [-0.12812179]\n",
      "Density:  [-0.0894315]\n",
      "pH:  [-0.06780943]\n",
      "Sulfates:  [0.15031245]\n",
      "Alcohol:  [0.24954306]\n",
      "\n",
      "\n"
     ]
    }
   ],
   "source": [
    "# wine_train = np.loadtxt(\"data/redwine_training.txt\")\n",
    "# names = [\"Intercept\", \"Fixed acidity\", \"Volatile acidity\",\"Citric acid\",\"Residual sugar\",\"Chlorides\",\"Free sulfur dioxide\",\n",
    "#          \"Total sulfur dioxide\", \"Density\",\"pH\",\"Sulfates\",\"Alcohol\"]\n",
    "\n",
    "# x_train = wine_train[:, :-1]\n",
    "# x_train = normalize_data(source=wine_train[:, :-1], target=x_train)\n",
    "# x_train_col1 = x_train[:, :1]\n",
    "# y_train = wine_train[:, -1:]\n",
    "\n",
    "# weights_one = multivarlinreg(x_train_col1, y_train)\n",
    "# print(\"Weights for first feature:\")\n",
    "# print_names(weights_one, names)\n",
    "# #Fixed acidity is not that important, has a small coefficient\n",
    "# weights_full = multivarlinreg(x_train, y_train)\n",
    "# print(\"Weights for all features:\")\n",
    "# print_names(weights_full, names)\n",
    "# #Desnity is very important, high negative correlation, chlorides is a little importat, rest are not very correlated"
   ]
  },
  {
   "cell_type": "code",
   "execution_count": 31,
   "metadata": {},
   "outputs": [],
   "source": [
    "# Exercise 3\n",
    "def rmse(pred, true):\n",
    "    error = (true - pred)**2\n",
    "    rms = np.sqrt(np.mean(error))\n",
    "    return rms\n",
    "\n",
    "def test(weights, test_x, test_y):\n",
    "    X = add_one(test_x)\n",
    "    pred = X @ weights\n",
    "    error = rmse(pred, test_y)\n",
    "    return error"
   ]
  },
  {
   "cell_type": "code",
   "execution_count": 32,
   "metadata": {},
   "outputs": [
    {
     "name": "stdout",
     "output_type": "stream",
     "text": [
      "RMSE for first feature: 0.7860892754162222\n",
      "RMSE for all features: 0.6447172773067071\n"
     ]
    }
   ],
   "source": [
    "# wine_test = np.loadtxt(\"data/redwine_testing.txt\")\n",
    "\n",
    "# x_test = wine_test[:, :-1]\n",
    "# x_test = normalize_data(source=wine_train[:, :-1], target=x_test)\n",
    "# x_test_col1 = x_test[:, :1]\n",
    "# y_test = wine_test[:, -1:]\n",
    "\n",
    "# rmse_one = test(weights_one, x_test_col1, y_test)\n",
    "# rmse_full = test(weights_full, x_test, y_test)\n",
    "# print(f\"RMSE for first feature: {rmse_one}\")\n",
    "# print(f\"RMSE for all features: {rmse_full}\")\n",
    "# #Using all the features results in a lower error which matches the previous exercise."
   ]
  },
  {
   "cell_type": "code",
   "execution_count": null,
   "metadata": {},
   "outputs": [],
   "source": []
  },
  {
   "cell_type": "code",
   "execution_count": null,
   "metadata": {},
   "outputs": [],
   "source": []
  }
 ],
 "metadata": {
  "kernelspec": {
   "display_name": "Python 3",
   "language": "python",
   "name": "python3"
  },
  "language_info": {
   "codemirror_mode": {
    "name": "ipython",
    "version": 3
   },
   "file_extension": ".py",
   "mimetype": "text/x-python",
   "name": "python",
   "nbconvert_exporter": "python",
   "pygments_lexer": "ipython3",
   "version": "3.7.4"
  }
 },
 "nbformat": 4,
 "nbformat_minor": 4
}
