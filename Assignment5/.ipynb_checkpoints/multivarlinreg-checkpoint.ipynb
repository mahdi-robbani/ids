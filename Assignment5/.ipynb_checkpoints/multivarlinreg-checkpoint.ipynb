{
 "cells": [
  {
   "cell_type": "code",
   "execution_count": 1,
   "metadata": {},
   "outputs": [],
   "source": [
    "# input: 1) X: the independent variables (data matrix), an (N x D)-dimensional matrix, as a numpy array\n",
    "#        2) y: the dependent variable, an N-dimensional vector, as a numpy array\n",
    "## output: 1) the regression coefficients, a (D+1)-dimensional vector, as a numpy array\n",
    "## note: remember to either expect an initial column of 1's in the input X, or to append this within your code"
   ]
  },
  {
   "cell_type": "code",
   "execution_count": 82,
   "metadata": {},
   "outputs": [],
   "source": [
    "# Exercise 2\n",
    "import numpy as np\n",
    "def multivarlinreg(X, y):\n",
    "    X = add_one(X)\n",
    "    w = np.linalg.inv(X.T @ X) @ X.T @ y\n",
    "    return w\n",
    "    \n",
    "def add_one(X):\n",
    "    row, col = np.shape(X)\n",
    "    one_col = np.ones(row)\n",
    "    X = np.c_[one_col, X]\n",
    "    return X\n",
    "\n",
    "def print_names(weights, names):\n",
    "    for i in range(len(weights)):\n",
    "        print(f\"{names[i]}:  {weights[i]}\")\n",
    "    print(\"\\n\")"
   ]
  },
  {
   "cell_type": "code",
   "execution_count": 83,
   "metadata": {},
   "outputs": [
    {
     "name": "stdout",
     "output_type": "stream",
     "text": [
      "Weights for first feature:\n",
      "Intercept:  [5.2057261]\n",
      "Fixed acidity:  [0.05035934]\n",
      "\n",
      "\n",
      "Weights for all features:\n",
      "Intercept:  [51.65737174]\n",
      "Fixed acidity:  [0.01958527]\n",
      "Volatile acidity:  [-1.06193618]\n",
      "Citric acid:  [0.02588963]\n",
      "Residual sugar:  [0.05022816]\n",
      "Chlorides:  [-2.75489463]\n",
      "Free sulfur dioxide:  [0.00565346]\n",
      "Total sulfur dioxide:  [-0.00380729]\n",
      "Density:  [-47.20924227]\n",
      "pH:  [-0.42663938]\n",
      "Sulfates:  [0.85047813]\n",
      "Alcohol:  [0.2378959]\n",
      "\n",
      "\n"
     ]
    }
   ],
   "source": [
    "wine_train = np.loadtxt(\"redwine_training.txt\")\n",
    "names = [\"Intercept\", \"Fixed acidity\", \"Volatile acidity\",\"Citric acid\",\"Residual sugar\",\"Chlorides\",\"Free sulfur dioxide\",\n",
    "         \"Total sulfur dioxide\", \"Density\",\"pH\",\"Sulfates\",\"Alcohol\"]\n",
    "\n",
    "x_train = wine_train[:, :-1]\n",
    "x_train_col1 = x_train[:, :1]\n",
    "y_train = wine_train[:, -1:]\n",
    "\n",
    "weights_one = multivarlinreg(x_train_col1, y_train)\n",
    "print(\"Weights for first feature:\")\n",
    "print_names(weights_one, names)\n",
    "#Fixed acidity is not that important, has a small coefficient\n",
    "weights_full = multivarlinreg(x_train, y_train)\n",
    "print(\"Weights for all features:\")\n",
    "print_names(weights_full, names)\n",
    "#Desnity is very important, high negative correlation, chlorides is a little importat, rest are not very correlated"
   ]
  },
  {
   "cell_type": "code",
   "execution_count": 102,
   "metadata": {},
   "outputs": [
    {
     "name": "stdout",
     "output_type": "stream",
     "text": [
      "RMSE for first feature: 0.786089275416223\n",
      "RMSE for all features: 0.644717277302212\n"
     ]
    }
   ],
   "source": [
    "# Exercise 3\n",
    "def rmse(pred, true):\n",
    "    n = len(pred)\n",
    "    error = np.linalg.norm(true - pred)\n",
    "    rms = np.sqrt((error**2)/n)\n",
    "    return rms\n",
    "\n",
    "def test(weights, test_x, test_y):\n",
    "    X = add_one(test_x)\n",
    "    pred = X @ weights\n",
    "    error = rmse(pred, test_y)\n",
    "    return error\n",
    "\n",
    "wine_test = np.loadtxt(\"redwine_testing.txt\")\n",
    "\n",
    "x_test = wine_test[:, :-1]\n",
    "x_test_col1 = x_test[:, :1]\n",
    "y_test = wine_test[:, -1:]\n",
    "\n",
    "rmse_one = test(weights_one, x_test_col1, y_test)\n",
    "rmse_full = test(weights_full, x_test, y_test)\n",
    "print(f\"RMSE for first feature: {rmse_one}\")\n",
    "print(f\"RMSE for all features: {rmse_full}\")\n",
    "#Using all the features results in a lower error which matches the previous exercise."
   ]
  },
  {
   "cell_type": "code",
   "execution_count": null,
   "metadata": {},
   "outputs": [],
   "source": []
  }
 ],
 "metadata": {
  "kernelspec": {
   "display_name": "Python 3",
   "language": "python",
   "name": "python3"
  },
  "language_info": {
   "codemirror_mode": {
    "name": "ipython",
    "version": 3
   },
   "file_extension": ".py",
   "mimetype": "text/x-python",
   "name": "python",
   "nbconvert_exporter": "python",
   "pygments_lexer": "ipython3",
   "version": "3.7.4"
  }
 },
 "nbformat": 4,
 "nbformat_minor": 4
}
