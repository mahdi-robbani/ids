{
 "cells": [
  {
   "cell_type": "code",
   "execution_count": 13,
   "metadata": {},
   "outputs": [],
   "source": [
    "#Exercise 7\n",
    "import numpy as np\n",
    "import matplotlib.pyplot as plt\n",
    "from plot import *\n",
    "Iris2D1_train = np.loadtxt(\"data/Iris2D1_train.txt\")\n",
    "Iris2D1_test = np.loadtxt(\"data/Iris2D1_test.txt\")\n",
    "Iris2D2_train = np.loadtxt(\"data/Iris2D2_train.txt\")\n",
    "Iris2D2_test = np.loadtxt(\"data/Iris2D2_test.txt\")\n",
    "s = False"
   ]
  },
  {
   "cell_type": "code",
   "execution_count": 14,
   "metadata": {},
   "outputs": [],
   "source": [
    "#7.1\n",
    "def plot_iris(data, name):\n",
    "    if \"2D1\" in name:\n",
    "        y = \"Feature 2\"\n",
    "    else:\n",
    "        y = \"Feature 1\"\n",
    "    \n",
    "    plt.scatter(data[data[:,2] == 0][:, 0], data[data[:,2] == 0][:, 1], ec = \"black\", label = \"Class 0\", zorder = 3)\n",
    "    plt.scatter(data[data[:,2] == 1][:, 0], data[data[:,2] == 1][:, 1], ec = \"black\", color = 'red', label = \"Class 1\", zorder = 3)\n",
    "    plot_template(title = \"Plot of \" + name, xlabel = \"Feature 0\", ylabel = y, equal_axis=False, legend= True, save = s)"
   ]
  },
  {
   "cell_type": "code",
   "execution_count": 15,
   "metadata": {},
   "outputs": [
    {
     "data": {
      "text/plain": [
       "<Figure size 432x288 with 0 Axes>"
      ]
     },
     "metadata": {},
     "output_type": "display_data"
    }
   ],
   "source": [
    "plot_iris(Iris2D1_train, \"Iris2D1 train\")\n",
    "plot_iris(Iris2D1_test, \"Iris2D1 test\")\n",
    "plot_iris(Iris2D2_train, \"Iris2D2 train\")\n",
    "plot_iris(Iris2D2_test, \"Iris2D2 test\")\n",
    "#the two classes are very distinctly separated in the Iris2D2 datasets while there is a little overlap in the Iris2D1 datasets"
   ]
  },
  {
   "cell_type": "code",
   "execution_count": 6,
   "metadata": {},
   "outputs": [],
   "source": [
    "#7.2\n",
    "def logistic(x):\n",
    "    out = 1/(1 + np.exp(-x))\n",
    "    return out\n",
    "\n",
    "def add_one(X):\n",
    "    row, col = np.shape(X)\n",
    "    one_col = np.ones(row)\n",
    "    X = np.c_[one_col, X]\n",
    "    return X\n",
    "\n",
    "def gradient(X, y, w):\n",
    "    \"\"\"\n",
    "    Returns a vector of partial derivaties\n",
    "    \"\"\"\n",
    "    s = -y.T * (w.T @ X.T) # Transpose to get 1*d @ d*N\n",
    "    theta = logistic(s) # 1*N\n",
    "    c =  -y * X # N*d\n",
    "    grad = c.T @ theta.T # Transpose to d*N @ N*1\n",
    "    return grad\n",
    "\n",
    "def insample_error(X, y, w):\n",
    "    \"\"\"\n",
    "    Returns a single real value which corresponds to the error\n",
    "    \"\"\"\n",
    "    N = len(X)\n",
    "    s = -y.T * (w.T @ X.T) # Transpose to get 1*N x 1*d @ d*N\n",
    "    pyx = np.log(1 + np.exp(s)) # Calculate P(Yn|Xn) likelihood\n",
    "    error = np.sum(pyx)/N # Calculate sum[P(Yn|Xn)]/N\n",
    "    return error\n",
    "\n",
    "def train_log(X, y):\n",
    "    \"\"\"\n",
    "    Perfoms logistic regression training\n",
    "    Takes in X = N*d array and Y = N*1 array\n",
    "    Returns an array of weights w = d*1\n",
    "    \"\"\"\n",
    "    X = add_one(X) # Add intercept column\n",
    "    N, d = np.shape(X)\n",
    "    w = np.reshape(np.random.randn(d), (d, 1)) #initialize random weights\n",
    "    error = insample_error(X, y , w)\n",
    "    learning_rate = 0.01\n",
    "    iteration = 1\n",
    "    convergance = 0\n",
    "    tolerance = 10**-10\n",
    "    \n",
    "    while convergance == 0:\n",
    "        m = gradient(X, y, w)\n",
    "        w_new = w - (learning_rate * m) # update weight\n",
    "        new_error = insample_error(X, y, w_new)\n",
    "        g = np.linalg.norm(m) # convert partial derivate array to single gradient value\n",
    "        iteration += 1\n",
    "        \n",
    "        #check if new error is better\n",
    "        if new_error < error:\n",
    "            w = w_new\n",
    "            error = new_error\n",
    "            learning_rate *= 1.1\n",
    "        else:\n",
    "            learning_rate *=0.9\n",
    "        \n",
    "        #check convergance condition\n",
    "        if g < tolerance:\n",
    "            #print(\"Tolerance reached\")\n",
    "            convergance = 1\n",
    "        elif iteration == 10000:\n",
    "            #print(\"Max iterations\")\n",
    "            convergance = 1\n",
    "    return w\n",
    "    \n",
    "def predict_log(X, w):\n",
    "    X = add_one(X) #Add column for intercept\n",
    "    pred = logistic(w.T @ X.T).T # h(x) = theta(w.T @ x)\n",
    "    pred = pred > 0.5 # Convert prediction to a boolean that indicates if it is > 0.5 or not\n",
    "    pred = np.array(pred, dtype = int) # convert to 0 or 1\n",
    "    pred = 2*(pred-0.5) # conver to -1 or 1\n",
    "    return pred\n",
    "\n",
    "def get_error(true, pred):\n",
    "    \"\"\"\n",
    "    Takes in two N*1 arrays\n",
    "    Each array consists of -1 or 1\n",
    "    Returns a single error value\n",
    "    \"\"\"\n",
    "    N = len(true)\n",
    "    error = abs(true - pred)/2 #convert each value to 0 or 1\n",
    "    error = np.sum(error)/N\n",
    "    return error\n",
    "\n",
    "def split_data(data):\n",
    "    \"\"\"\n",
    "    Saves last column as y. Converts y to -1 or 1\n",
    "    Saves rest of the columns as x\n",
    "    \"\"\"\n",
    "    x = data[:, :2]\n",
    "    y = data[:, -1:]\n",
    "    y = 2*(y-0.5) # convert to -1 or 1\n",
    "    return x, y\n",
    "\n",
    "def log_regression(train, test):\n",
    "    \"\"\"\n",
    "    Perform logistic regression on a dataset with y value as last column\n",
    "    Returns the 0-1 error value, weights, and predicted values\n",
    "    \"\"\"\n",
    "    train_x, train_y = split_data(train)\n",
    "    test_x, test_y = split_data(test)\n",
    "    weights = train_log(train_x, train_y)\n",
    "    pred = predict_log(test_x, weights)\n",
    "    error = get_error(test_y, pred)\n",
    "    return error, weights, pred"
   ]
  },
  {
   "cell_type": "code",
   "execution_count": 9,
   "metadata": {},
   "outputs": [
    {
     "name": "stdout",
     "output_type": "stream",
     "text": [
      "Iris2D1 Error: 0.06666666666666667\n",
      "Iris2D1 Weights:\n",
      "[[-12.49747315]\n",
      " [ -4.63317351]\n",
      " [  8.39690487]]\n",
      "\n",
      "\n",
      "Iris2D2 Error: 0.0\n",
      "Iris2D2 Weights:\n",
      "[[-28.86604052]\n",
      " [ 12.62804651]\n",
      " [-12.67523621]]\n"
     ]
    }
   ],
   "source": [
    "#7.3\n",
    "e1, w1, p1 = log_regression(Iris2D1_train, Iris2D1_test)\n",
    "e2, w2, p2 = log_regression(Iris2D2_train, Iris2D2_test)\n",
    "#7.4\n",
    "print(f\"Iris2D1 Error: {e1}\\nIris2D1 Weights:\\n{w1}\")\n",
    "print(\"\\n\")\n",
    "print(f\"Iris2D2 Error: {e2}\\nIris2D2 Weights:\\n{w2}\")"
   ]
  },
  {
   "cell_type": "code",
   "execution_count": 8,
   "metadata": {},
   "outputs": [],
   "source": [
    "#Iris2D1_test[:, -1:]"
   ]
  },
  {
   "cell_type": "markdown",
   "metadata": {},
   "source": [
    "# Exercise 8\n",
    "1. The insample error function is defined as:\n",
    "   $$E_{in} = \\frac{1}{N}\\sum_{n=1}^{N}ln\\left(\\frac{1}{\\theta(y_n\\mathbf{w}^T\\mathbf{x}_n)}\\right)$$\n",
    "   The logistic function $\\theta$ is defined as:\n",
    "   $$\\theta(s) = \\frac{e^s}{1+e^s}$$\n",
    "   Therefore:\n",
    "   $$\\frac{1}{\\theta(s)} = \\frac{1+e^s}{e^s}$$\n",
    "   Rearranging this gives us:\n",
    "   $$\\frac{1}{\\theta(s)} = \\frac{1}{e^s} + \\frac{e^s}{e^s}$$\n",
    "   $$\\frac{1}{\\theta(s)} = e^{-s} + 1$$\n",
    "   $$\\frac{1}{\\theta(s)} = 1 + e^{-s}$$\n",
    "   Therefore the insample error function is equivalent to:\n",
    "   $$E_{in} = \\frac{1}{N}\\sum_{n=1}^{N}ln(1+ e^{-y_n\\mathbf{w}^T\\mathbf{x}_n})$$\n",
    "   The derivative of $E_{in}$ is:\n",
    "   $$\\nabla_{\\mathbf{w}}E_{in} = \\frac{1}{N}\\sum_{n=1}^{N}\\frac{1}{1+e^{-y_n\\mathbf{w}^T\\mathbf{x}_n}}(-y_n\\mathbf{x}_ne^{-y_n\\mathbf{w}^T\\mathbf{x}_n})$$\n",
    "   Rearranging this gives us:\n",
    "   $$\\nabla_{\\mathbf{w}}E_{in} = \\frac{1}{N}\\sum_{n=1}^{N}-y_n\\mathbf{x}_n\\frac{e^{-y_n\\mathbf{w}^T\\mathbf{x}_n}}{1+e^{-y_n\\mathbf{w}^T\\mathbf{x}_n}}$$\n",
    "   Since the logistic function $\\theta$ is defined as:\n",
    "   $$\\theta(s) = \\frac{e^s}{1+e^s}$$\n",
    "   We can therefore rewrite the derivative as:\n",
    "   $$\\nabla_{\\mathbf{w}}E_{in} = \\frac{1}{N}\\sum_{n=1}^{N}-y_n\\mathbf{x}_n\\theta(-y_n\\mathbf{w}^T\\mathbf{x}_n)$$"
   ]
  },
  {
   "cell_type": "code",
   "execution_count": null,
   "metadata": {},
   "outputs": [],
   "source": []
  },
  {
   "cell_type": "markdown",
   "metadata": {},
   "source": [
    "# weights = train(x, y)\n",
    "t_x, t_y = split_data(Iris2D1_test)\n",
    "pred = predict(t_x, weights)\n",
    "error = error(t_y, pred)\n",
    "error"
   ]
  },
  {
   "cell_type": "code",
   "execution_count": null,
   "metadata": {},
   "outputs": [],
   "source": []
  },
  {
   "cell_type": "code",
   "execution_count": 8,
   "metadata": {},
   "outputs": [
    {
     "data": {
      "text/plain": [
       "array([[236.25668179],\n",
       "       [169.14329519]])"
      ]
     },
     "execution_count": 8,
     "metadata": {},
     "output_type": "execute_result"
    }
   ],
   "source": [
    "Iris2D1_train = np.loadtxt(\"Iris2D1_train.txt\")\n",
    "x, y = split_data(Iris2D1_train)\n",
    "d = np.shape(x)[1]\n",
    "w = np.reshape(np.random.randn(d), (d, 1))\n",
    "gradient(x, y, w)\\\n",
    "#insample_error(x,y,w)"
   ]
  },
  {
   "cell_type": "code",
   "execution_count": 119,
   "metadata": {},
   "outputs": [],
   "source": [
    "np.random.randn(19)\n",
    "train_x_2d1, train_y_2d1 = split_data(Iris2D1_train)\n",
    "#train(train_x_2d1, train_y_2d1)"
   ]
  },
  {
   "cell_type": "code",
   "execution_count": 93,
   "metadata": {},
   "outputs": [],
   "source": [
    "x = add_one(Iris2D2_train[:, :2])\n",
    "y = Iris2D2_train[:, -1:]\n",
    "w = np.reshape(np.random.randn(len(x)), (70, 1))\n",
    "#s = y @ w.T @ x\n",
    "#sum(np.log(1 + np.exp(-s)))\n",
    "#Iris2D2_train"
   ]
  },
  {
   "cell_type": "code",
   "execution_count": 121,
   "metadata": {},
   "outputs": [
    {
     "data": {
      "text/plain": [
       "array([[ 6.31352151,  5.70893406,  7.65324077,  7.55041377,  6.45792455,\n",
       "        -8.82158169,  7.30974203, -9.66684087, -7.41986941,  6.36165586,\n",
       "        -9.44002782, -7.64668246,  6.61618627, -8.14844291,  7.91432948,\n",
       "        -7.88735419, -7.82536117,  6.63660325,  7.92818816, -9.2817661 ,\n",
       "        -8.26512859,  6.65046193,  7.11064634, -7.55041377,  7.28932505,\n",
       "         6.38207284,  5.80520275, -7.2346324 , -8.31326294,  6.71901327,\n",
       "         7.17919768,  6.88383329,  7.78378512,  6.16256016,  6.86341631,\n",
       "        -7.2346324 ,  7.39945242,  6.49220021, -8.21699424,  7.2411907 ,\n",
       "         6.34779717, -7.92162986,  8.03101516,  7.3440177 , -9.03453606,\n",
       "        -7.2346324 , -7.38559374,  7.63938208, -7.82536117,  7.55697207,\n",
       "         7.11064634, -9.04839474,  6.45792455, -8.07989158,  6.70515459,\n",
       "        -8.86971604, -8.725313  ,  8.04487384, -7.81150249, -6.20413621,\n",
       "         6.65702024,  7.27546637,  6.67087892, -7.72253417, -9.57057218,\n",
       "        -7.35131808,  6.71901327,  7.45414507, -8.4438073 ,  5.64694103]])"
      ]
     },
     "execution_count": 121,
     "metadata": {},
     "output_type": "execute_result"
    }
   ],
   "source": [
    "x = train_x_2d1\n",
    "y = train_y_2d1\n",
    "w = np.reshape(np.random.randn(np.shape(x)[1]), (np.shape(x)[1], 1))\n",
    "#logistic(y @ w.T @ x)\n",
    "y * (w.T @ x.T)"
   ]
  },
  {
   "cell_type": "code",
   "execution_count": 189,
   "metadata": {},
   "outputs": [
    {
     "data": {
      "text/plain": [
       "array([[-6.31352151, -5.70893406, -7.65324077, -7.55041377,  6.45792455,\n",
       "         8.82158169,  7.30974203,  9.66684087,  7.41986941, -6.36165586,\n",
       "        -9.44002782,  7.64668246,  6.61618627,  8.14844291,  7.91432948,\n",
       "         7.88735419, -7.82536117,  6.63660325,  7.92818816,  9.2817661 ,\n",
       "        -8.26512859, -6.65046193, -7.11064634,  7.55041377,  7.28932505,\n",
       "         6.38207284, -5.80520275,  7.2346324 , -8.31326294,  6.71901327,\n",
       "        -7.17919768,  6.88383329,  7.78378512,  6.16256016,  6.86341631,\n",
       "         7.2346324 , -7.39945242, -6.49220021, -8.21699424, -7.2411907 ,\n",
       "         6.34779717,  7.92162986,  8.03101516,  7.3440177 , -9.03453606,\n",
       "        -7.2346324 ,  7.38559374,  7.63938208, -7.82536117,  7.55697207,\n",
       "         7.11064634,  9.04839474,  6.45792455,  8.07989158,  6.70515459,\n",
       "        -8.86971604, -8.725313  , -8.04487384, -7.81150249, -6.20413621,\n",
       "         6.65702024,  7.27546637,  6.67087892, -7.72253417,  9.57057218,\n",
       "        -7.35131808,  6.71901327, -7.45414507, -8.4438073 , -5.64694103]])"
      ]
     },
     "execution_count": 189,
     "metadata": {},
     "output_type": "execute_result"
    }
   ],
   "source": [
    "y = Iris2D2_train[:, -1:]\n",
    "y = 2*(y-0.5)\n",
    "\n",
    "(w.T @ x.T) * y.T"
   ]
  },
  {
   "cell_type": "code",
   "execution_count": null,
   "metadata": {},
   "outputs": [],
   "source": []
  },
  {
   "cell_type": "code",
   "execution_count": null,
   "metadata": {},
   "outputs": [],
   "source": []
  }
 ],
 "metadata": {
  "kernelspec": {
   "display_name": "Python 3",
   "language": "python",
   "name": "python3"
  },
  "language_info": {
   "codemirror_mode": {
    "name": "ipython",
    "version": 3
   },
   "file_extension": ".py",
   "mimetype": "text/x-python",
   "name": "python",
   "nbconvert_exporter": "python",
   "pygments_lexer": "ipython3",
   "version": "3.7.4"
  }
 },
 "nbformat": 4,
 "nbformat_minor": 4
}
