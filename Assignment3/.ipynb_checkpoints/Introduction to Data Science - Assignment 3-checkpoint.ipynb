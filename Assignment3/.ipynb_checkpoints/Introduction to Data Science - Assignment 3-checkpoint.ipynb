{
 "cells": [
  {
   "cell_type": "markdown",
   "metadata": {},
   "source": [
    "# Exercise 1\n",
    "plot1\n",
    "plot2\n",
    "plot3\n",
    "```\n",
    "2 PCs are needed to capture 90.0% of the variance\n",
    "3 PCs are needed to capture 95.0% of the variance\n",
    "```\n",
    "\n",
    "# Exercise 2\n",
    "plot\n",
    "\n",
    "# Exercise 3\n",
    "```\n",
    "Centroid 1: [5.70726496e+00 4.93012821e+01 7.92408120e+02 3.85595940e+03\n",
    " 3.38821368e+03 1.35652778e+03 2.91737179e+02 1.29989316e+02\n",
    " 6.86111111e+01 3.81880342e+01 1.87692308e+01 4.13461538e+00\n",
    " 4.42307692e-01]\n",
    "Centroid 2: [2.19924812e+00 1.40018797e+01 1.73727444e+02 1.40094549e+03\n",
    " 3.18759962e+03 2.62043985e+03 1.00147368e+03 6.31413534e+02\n",
    " 4.95295113e+02 2.95238722e+02 1.45689850e+02 2.91466165e+01\n",
    " 2.82330827e+00]\n",
    " ```\n",
    "The function creates a list of distances from each data point to a centroid for k centroids and converts this to a matrix. It then finds the lowest distance for each centroid, and assigns the data point for the corresponding distance to a cluster to make k clusters. The new centroids are then obtained by finding the mean of each cluster. The loss is also calculated for all clusters. This cycle is repeated until the loss in one cycle is the same as the previous cycle, indicating no change in centroids.\n",
    "\n"
   ]
  },
  {
   "cell_type": "markdown",
   "metadata": {},
   "source": [
    "# Exercise 4\n",
    "\n",
    "1. **How is probability interpreted differently in the frequentist and Bayesian views?**  \n",
    "You the frequentist view, the probability of an event is essentially the frequency of that event occuring after many trials. The Bayesian view of probability is a measure of the belief of that event occurring.\n",
    "\n",
    "2. **Cheap, efficient computers played a major role in making Bayesian methods mainstream. Why?**  \n",
    "Bayesian methods require large amounts of sampling which was difficult to do before cheap and efficient computers became mainstream.\n",
    "\n",
    "3. **What is the difference between a Bayesian credible interval and a frequentist confidence interval?**  \n",
    "A 95% frequentist confidence interval means the confidence interval will contain the true value 95 out of 100 times. The Bayesian credible interval indicates that the data will be in the interval 95% of the time\n",
    "\n",
    "4. **How does a maximum likelihood estimate approximate full Bayesian inference?**  \n",
    "skagssdsdsdjk\n",
    "\n",
    "5. **When will point estimates be a good approximation of full Bayesian inference?**  \n",
    "Point estimates are a good approximation when the distribution is unimodal and has a narrow peak."
   ]
  },
  {
   "cell_type": "markdown",
   "metadata": {},
   "source": [
    "4. And another item.\n",
    "3. asas\n",
    "* asasa\n",
    "1. asas  \n",
    "Conti\n",
    "3. Question2  \n",
    "we\n",
    "⋅⋅⋅ You can have properly indented paragraphs within list items. Notice the blank line above, and the leading spaces (at least one, but we'll use three here to also align the raw Markdown).\n",
    "\n",
    "⋅⋅⋅To have a line break without a paragraph, you will need to use two trailing spaces.⋅⋅\n",
    "⋅⋅⋅Note that this line is separate, but within the same paragraph.⋅⋅\n",
    "⋅⋅⋅(This is contrary to the typical GFM line break behaviour, where trailing spaces are not required.)\n",
    "\n",
    "* Unordered list can use asterisks"
   ]
  },
  {
   "cell_type": "code",
   "execution_count": null,
   "metadata": {},
   "outputs": [],
   "source": []
  }
 ],
 "metadata": {
  "kernelspec": {
   "display_name": "Python 3",
   "language": "python",
   "name": "python3"
  },
  "language_info": {
   "codemirror_mode": {
    "name": "ipython",
    "version": 3
   },
   "file_extension": ".py",
   "mimetype": "text/x-python",
   "name": "python",
   "nbconvert_exporter": "python",
   "pygments_lexer": "ipython3",
   "version": "3.7.4"
  },
  "latex_metadata": {
   "affiliation": "Freie Universit\\\"at Berlin, Fachbereich Physik, 14195 Berlin, Germany",
   "author": "Julius C. F. Schulz",
   "title": "Amazing Article"
  }
 },
 "nbformat": 4,
 "nbformat_minor": 4
}
