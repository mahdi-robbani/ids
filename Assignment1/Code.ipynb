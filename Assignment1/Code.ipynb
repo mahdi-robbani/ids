{
 "cells": [
  {
   "cell_type": "code",
   "execution_count": 2,
   "metadata": {},
   "outputs": [
    {
     "name": "stdout",
     "output_type": "stream",
     "text": [
      "Average FEV1 for nonsmokers: 2.5661426146010187\n",
      "Average FEV1 for smokers: 3.2768615384615383\n"
     ]
    }
   ],
   "source": [
    "# Exercise 1\n",
    "import numpy as np\n",
    "data = np.loadtxt('smoking.txt')\n",
    "nonsmokers = data[np.where(data[:,4] == 0)] #select all rows for nonsmokers\n",
    "smokers = data[np.where(data[:,4] == 1)] #select all rows for smokers\n",
    "\n",
    "def avg_FEV1(data):\n",
    "    '''Calculates average FEV1 value for an array'''\n",
    "    fev1 = data[:,1] #Select the column for fev1 values\n",
    "    avg = np.mean(fev1)\n",
    "    return avg\n",
    "\n",
    "print(\"Average FEV1 for nonsmokers: \" + str(avg_FEV1(nonsmokers)))\n",
    "print(\"Average FEV1 for smokers: \" + str(avg_FEV1(smokers)))"
   ]
  },
  {
   "cell_type": "code",
   "execution_count": 4,
   "metadata": {},
   "outputs": [
    {
     "data": {
      "image/png": "[encoded data removed]",
      "text/plain": [
       "<Figure size 432x288 with 1 Axes>"
      ]
     },
     "metadata": {
      "needs_background": "light"
     },
     "output_type": "display_data"
    }
   ],
   "source": [
    "# Exercise 2\n",
    "import matplotlib.pyplot as plt\n",
    "nonsmokers_fev1 = nonsmokers[:,1] #select fev1 values from the nonsmoker array\n",
    "smokers_fev1 = smokers[:,1] #select fev1 values from the smoker array\n",
    "labels = [\"Non-smokers\", \"Smokers\"]\n",
    "plt.boxplot([nonsmokers_fev1, smokers_fev1], labels = labels)\n",
    "plt.title('Boxplot of FEV1 levels in nonsmokers and smokers')\n",
    "plt.ylabel('FEV1 levels')\n",
    "plt.show()"
   ]
  },
  {
   "cell_type": "code",
   "execution_count": null,
   "metadata": {},
   "outputs": [],
   "source": [
    "# Exercise 3\n",
    "import scipy.stats as sp\n",
    "\n",
    "def df(sample1, sample2):\n",
    "    '''Calculate the degree of freedom'''\n",
    "    n1 = len(sample1)\n",
    "    n2 = len(sample2)\n",
    "    var1 = np.var(sample1)\n",
    "    var2 = np.var(sample2)\n",
    "    num = ((var1/n1) + (var2/n2))**2\n",
    "    den1 = (var1**2)/((n1-1)*n1**2)\n",
    "    den2 = (var2**2)/((n2-1)*n2**2)\n",
    "    df = np.floor(num/(den1+den2))\n",
    "    return df\n",
    "\n",
    "def ttest(sample1, sample2, alpha = 0.05):\n",
    "    '''Returns whether the null hypothesis isrejected or not, reject = True'''\n",
    "    n1 = len(sample1)\n",
    "    n2 = len(sample2)\n",
    "    mean1 = np.mean(sample1)\n",
    "    mean2 = np.mean(sample2)\n",
    "    var1 = np.var(sample1)\n",
    "    var2 = np.var(sample2)\n",
    "    #calculate t statistic\n",
    "    tval = (mean1 - mean2)/np.sqrt((var1/n1)+(var2/n2))\n",
    "    #calculate degree of freedom\n",
    "    k = df(sample1, sample2)\n",
    "    #calculate p value\n",
    "    pval = 2*sp.t.cdf(-abs(tval), k)\n",
    "    \n",
    "    print(\"T value: \"+ str(tval))\n",
    "    print(\"P value: \"+ str(pval))\n",
    "    print(\"Degrees of freedom: \"+ str(k))\n",
    "    \n",
    "    if pval < alpha:\n",
    "        print(\"The null hypothesis is rejected at alpha = \" + str(alpha))\n",
    "        return True\n",
    "    else:\n",
    "        print(\"The null hypothesis is not rejected at alpha = \" + str(alpha))\n",
    "        return False\n",
    "\n",
    "#test\n",
    "ttest(smokers_fev1, nonsmokers_fev1)"
   ]
  },
  {
   "cell_type": "code",
   "execution_count": null,
   "metadata": {},
   "outputs": [],
   "source": [
    "# Exercise 4\n",
    "# Correlation\n",
    "pear = sp.pearsonr(data[:,0],data[:,1])[0]\n",
    "spear = sp.spearmanr(data[:,0],data[:,1])[0]\n",
    "print(\"Pearson coefficient: \" + str(pear))\n",
    "print(\"Spearman coefficient: \" + str(spear))\n",
    "\n",
    "# 2D plot\n",
    "nonsmokers_age = nonsmokers[:,0]\n",
    "smokers_age = smokers[:,0]\n",
    "plt.scatter(nonsmokers_age, nonsmokers_fev1, alpha=0.7, label='Non-smokers')\n",
    "plt.scatter(smokers_age, smokers_fev1, alpha=0.7, color = \"red\", label = 'Smokers')\n",
    "plt.title('Age versus FEV1 levels in Smokers and Non-smokers')\n",
    "plt.xlabel('Age')\n",
    "plt.ylabel('FEV1')\n",
    "plt.legend(loc='lower right')\n",
    "plt.show()"
   ]
  },
  {
   "cell_type": "code",
   "execution_count": null,
   "metadata": {},
   "outputs": [],
   "source": [
    "# Exercise 5\n",
    "plt.hist(nonsmokers_age, alpha=0.8, label='Non-smokers')\n",
    "plt.hist(smokers_age, alpha=0.8, color = \"red\", label = 'Smokers')\n",
    "plt.title('Histogram of the age of Smokers and Non-smokers')\n",
    "plt.xlabel('Age')\n",
    "plt.ylabel('Frequency')\n",
    "plt.legend(loc='upper right')\n",
    "plt.show()"
   ]
  }
 ],
 "metadata": {
  "kernelspec": {
   "display_name": "struc-kernel",
   "language": "python",
   "name": "struc-kernel"
  },
  "language_info": {
   "codemirror_mode": {
    "name": "ipython",
    "version": 3
   },
   "file_extension": ".py",
   "mimetype": "text/x-python",
   "name": "python",
   "nbconvert_exporter": "python",
   "pygments_lexer": "ipython3",
   "version": "3.7.5"
  }
 },
 "nbformat": 4,
 "nbformat_minor": 4
}
