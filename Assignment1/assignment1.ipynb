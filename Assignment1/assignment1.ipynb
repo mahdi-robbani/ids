{
 "cells": [
  {
   "cell_type": "markdown",
   "metadata": {},
   "source": [
    "# Assignment 1\n",
    "\n",
    "### Exercise 1 (Reading and processing data).\n",
    "\n",
    "1. Read the data from the file smoking.txt, and divide the dataset into two groups consisting of smokers and non-smokers. Write a script which computes the average lung function, measured in FEV1, among the smokers and among the non-smokers.\n",
    "2. Report your computed average FEV1 scores. Are you surprised?\n"
   ]
  },
  {
   "cell_type": "code",
   "execution_count": 2,
   "metadata": {},
   "outputs": [
    {
     "name": "stdout",
     "output_type": "stream",
     "text": [
      "Average FEV1 for nonsmokers: 2.5661426146010187\n",
      "Average FEV1 for smokers: 3.2768615384615383\n"
     ]
    }
   ],
   "source": [
    "# Exercise 1\n",
    "import numpy as np\n",
    "data = np.loadtxt('smoking.txt')\n",
    "nonsmokers = data[np.where(data[:,4] == 0)] #select all rows for nonsmokers\n",
    "smokers = data[np.where(data[:,4] == 1)] #select all rows for smokers\n",
    "\n",
    "def avg_FEV1(data):\n",
    "    '''Calculates average FEV1 value for an array'''\n",
    "    fev1 = data[:,1] #Select the column for fev1 values\n",
    "    avg = np.mean(fev1)\n",
    "    return avg\n",
    "\n",
    "print(\"Average FEV1 for nonsmokers: \" + str(avg_FEV1(nonsmokers)))\n",
    "print(\"Average FEV1 for smokers: \" + str(avg_FEV1(smokers)))"
   ]
  },
  {
   "cell_type": "markdown",
   "metadata": {},
   "source": [
    "Since FEV1 is an indicator of lung function, it is quite surprising smokers have a higher average FEV1.\n",
    "\n",
    "### Exercise 2 (Boxplots). \n",
    "Make a box plot of the FEV1 in the two groups. What do you see? Are you surprised?"
   ]
  },
  {
   "cell_type": "code",
   "execution_count": 8,
   "metadata": {},
   "outputs": [
    {
     "data": {
      "text/plain": [
       "<Figure size 432x288 with 0 Axes>"
      ]
     },
     "metadata": {},
     "output_type": "display_data"
    }
   ],
   "source": [
    "# Exercise 2\n",
    "import matplotlib.pyplot as plt\n",
    "nonsmokers_fev1 = nonsmokers[:,1] #select fev1 values from the nonsmoker array\n",
    "smokers_fev1 = smokers[:,1] #select fev1 values from the smoker array\n",
    "labels = [\"Non-smokers\", \"Smokers\"]\n",
    "plt.boxplot([nonsmokers_fev1, smokers_fev1], labels = labels)\n",
    "plt.title('Boxplot of FEV1 levels in nonsmokers and smokers')\n",
    "plt.ylabel('FEV1 levels')\n",
    "#plt.show()\n",
    "plt.savefig(\"boxplot.png\")\n",
    "# Clear canvas for next plot\n",
    "plt.clf()"
   ]
  },
  {
   "cell_type": "markdown",
   "metadata": {},
   "source": [
    "The non-smokers have a much larger range of FEV1 values and many extreme values that are larger than the Smoker FEV1 values.\n",
    "\n",
    "### Exercise 3 (Hypothesis testing).\n",
    "Next, we will perform a *hypothesis* test to investigate the difference between the FEV1 level in the two populations *smokers* and *non-smokers*.\n",
    "\n",
    "1. Write a script that performs a two-sided t-test whose null hypothesis is that the two populations have the same mean. Use a significance level of $\\alpha$ = 0.05, and return a binary response indicating acceptance or rejection of the null hypothesis. You should try do implement it by yourself - though not the CDF of the t-distribution, use scipy. If you can't, you may use scipy's stats.ttest ind.\n",
    "2. Report your result and discuss it. Are you surprised?"
   ]
  },
  {
   "cell_type": "code",
   "execution_count": 10,
   "metadata": {},
   "outputs": [
    {
     "name": "stdout",
     "output_type": "stream",
     "text": [
      "T value: 7.1990318609997095\n",
      "P value: 2.4945644815274697e-10\n",
      "Degrees of freedom: 83.0\n",
      "The null hypothesis is rejected at alpha = 0.05\n"
     ]
    },
    {
     "data": {
      "text/plain": [
       "True"
      ]
     },
     "execution_count": 10,
     "metadata": {},
     "output_type": "execute_result"
    }
   ],
   "source": [
    "# Exercise 3\n",
    "import scipy.stats as sp\n",
    "\n",
    "def df(sample1, sample2):\n",
    "    '''Calculate the degree of freedom'''\n",
    "    n1 = len(sample1)\n",
    "    n2 = len(sample2)\n",
    "    var1 = np.var(sample1)\n",
    "    var2 = np.var(sample2)\n",
    "    num = ((var1/n1) + (var2/n2))**2\n",
    "    den1 = (var1**2)/((n1-1)*n1**2)\n",
    "    den2 = (var2**2)/((n2-1)*n2**2)\n",
    "    df = np.floor(num/(den1+den2))\n",
    "    return df\n",
    "\n",
    "def ttest(sample1, sample2, alpha = 0.05):\n",
    "    '''Returns whether the null hypothesis isrejected or not, reject = True'''\n",
    "    n1 = len(sample1)\n",
    "    n2 = len(sample2)\n",
    "    mean1 = np.mean(sample1)\n",
    "    mean2 = np.mean(sample2)\n",
    "    var1 = np.var(sample1)\n",
    "    var2 = np.var(sample2)\n",
    "    #calculate t statistic\n",
    "    tval = (mean1 - mean2)/np.sqrt((var1/n1)+(var2/n2))\n",
    "    #calculate degree of freedom\n",
    "    k = df(sample1, sample2)\n",
    "    #calculate p value\n",
    "    pval = 2*sp.t.cdf(-abs(tval), k)\n",
    "    \n",
    "    print(\"T value: \"+ str(tval))\n",
    "    print(\"P value: \"+ str(pval))\n",
    "    print(\"Degrees of freedom: \"+ str(k))\n",
    "    \n",
    "    if pval < alpha:\n",
    "        print(\"The null hypothesis is rejected at alpha = \" + str(alpha))\n",
    "        return True\n",
    "    else:\n",
    "        print(\"The null hypothesis is not rejected at alpha = \" + str(alpha))\n",
    "        return False\n",
    "\n",
    "#test\n",
    "ttest(smokers_fev1, nonsmokers_fev1)"
   ]
  },
  {
   "cell_type": "markdown",
   "metadata": {},
   "source": [
    "The p value is much smaller than alpha (0.05) which indicates the difference between the two means is very statistically significant. This implies our strange results did not occur by chance so the FEV1 levels of our smoker sample is indeed higher than that of the nonsmokers.\n",
    "\n",
    "### Exercise 4 (Correlation).\n",
    "1. Compute the correlation between age and FEV1. Make a 2D plot of age versus FEV1 where non smokers appear in one color and smokers appear in another.\n",
    "2. What do you see? Comment your results."
   ]
  },
  {
   "cell_type": "code",
   "execution_count": 11,
   "metadata": {},
   "outputs": [
    {
     "name": "stdout",
     "output_type": "stream",
     "text": [
      "Pearson coefficient: 0.7564589899895999\n",
      "Spearman coefficient: 0.7984229001546537\n"
     ]
    },
    {
     "data": {
      "text/plain": [
       "<Figure size 432x288 with 0 Axes>"
      ]
     },
     "metadata": {},
     "output_type": "display_data"
    }
   ],
   "source": [
    "# Exercise 4\n",
    "# Correlation\n",
    "pear = sp.pearsonr(data[:,0],data[:,1])[0]\n",
    "spear = sp.spearmanr(data[:,0],data[:,1])[0]\n",
    "print(\"Pearson coefficient: \" + str(pear))\n",
    "print(\"Spearman coefficient: \" + str(spear))\n",
    "\n",
    "# 2D plot\n",
    "nonsmokers_age = nonsmokers[:,0]\n",
    "smokers_age = smokers[:,0]\n",
    "plt.scatter(nonsmokers_age, nonsmokers_fev1, alpha=0.7, label='Non-smokers')\n",
    "plt.scatter(smokers_age, smokers_fev1, alpha=0.7, color = \"red\", label = 'Smokers')\n",
    "plt.title('Age versus FEV1 levels in Smokers and Non-smokers')\n",
    "plt.xlabel('Age')\n",
    "plt.ylabel('FEV1')\n",
    "plt.legend(loc='lower right')\n",
    "#plt.show()\n",
    "plt.savefig(\"scatterplot.png\")\n",
    "# Clear canvas for next plot\n",
    "plt.clf()"
   ]
  },
  {
   "cell_type": "markdown",
   "metadata": {},
   "source": [
    "The age and FEV1 levels are positively correlated for both the Pearson and Spearman coefficients. This means older individuals will have a higher FEV1 level.\n",
    "\n",
    "### Exercise 5 (Histograms).\n",
    "1. Create a histogram over the age of subjects in each of the two groups, *smokers* and *non-smokers*.\n",
    "2. What do you see? Does this explain your results on lung function in the two groups?"
   ]
  },
  {
   "cell_type": "code",
   "execution_count": 12,
   "metadata": {},
   "outputs": [
    {
     "data": {
      "text/plain": [
       "<Figure size 432x288 with 0 Axes>"
      ]
     },
     "metadata": {},
     "output_type": "display_data"
    }
   ],
   "source": [
    "# Exercise 5\n",
    "plt.hist(nonsmokers_age, alpha=0.8, label='Non-smokers')\n",
    "plt.hist(smokers_age, alpha=0.8, color = \"red\", label = 'Smokers')\n",
    "plt.title('Histogram of the age of Smokers and Non-smokers')\n",
    "plt.xlabel('Age')\n",
    "plt.ylabel('Frequency')\n",
    "plt.legend(loc='upper right')\n",
    "#plt.show()\n",
    "plt.savefig(\"histogram.png\")\n",
    "# Clear canvas for next plot\n",
    "plt.clf()"
   ]
  },
  {
   "cell_type": "markdown",
   "metadata": {},
   "source": [
    "The Non-smoker group consists of much younger individuals than the smoker group, and since since smaller children will have a smaller lung capacity, the lower FEV1 values make sense."
   ]
  }
 ],
 "metadata": {
  "kernelspec": {
   "display_name": "Python 3",
   "language": "python",
   "name": "python3"
  },
  "language_info": {
   "codemirror_mode": {
    "name": "ipython",
    "version": 3
   },
   "file_extension": ".py",
   "mimetype": "text/x-python",
   "name": "python",
   "nbconvert_exporter": "python",
   "pygments_lexer": "ipython3",
   "version": "3.7.4"
  }
 },
 "nbformat": 4,
 "nbformat_minor": 4
}
