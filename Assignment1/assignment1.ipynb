{
 "cells": [
  {
   "cell_type": "code",
   "execution_count": 24,
   "metadata": {},
   "outputs": [
    {
     "name": "stdout",
     "output_type": "stream",
     "text": [
      "2.5661426146010187\n",
      "3.2768615384615383\n",
      "Average FEV1 for nonsmokers: 2.5661426146010187\n",
      "Average FEV1 for smokers: 3.2768615384615383\n"
     ]
    }
   ],
   "source": [
    "# Exercise 1\n",
    "import numpy as np\n",
    "data = np.loadtxt('smoking.txt')\n",
    "nonsmokers = data[np.where(data[:,4] == 0)]\n",
    "smokers = data[np.where(data[:,4] == 1)]\n",
    "\n",
    "def avg_FEV1(data):\n",
    "    '''Calculates average FEV1 value for an array'''\n",
    "    fev1 = data[:,1]\n",
    "    avg = np.mean(fev1)\n",
    "    return avg\n",
    "\n",
    "print(np.mean(data[np.where(data[:,4] == 0)][:,1]))\n",
    "print(np.mean(data[np.where(data[:,4] == 1)][:,1]))\n",
    "\n",
    "print(\"Average FEV1 for nonsmokers: \" + str(avg_FEV1(nonsmokers)))\n",
    "print(\"Average FEV1 for smokers: \" + str(avg_FEV1(smokers)))"
   ]
  },
  {
   "cell_type": "code",
   "execution_count": 27,
   "metadata": {},
   "outputs": [
    {
     "data": {
      "image/png": "[encoded data removed]",
      "text/plain": [
       "<Figure size 432x288 with 1 Axes>"
      ]
     },
     "metadata": {
      "needs_background": "light"
     },
     "output_type": "display_data"
    }
   ],
   "source": [
    "# Exercise 2\n",
    "import matplotlib.pyplot as plt\n",
    "%matplotlib inline\n",
    "nonsmokers_fev1 = nonsmokers[:,1]\n",
    "smokers_fev1 = smokers[:,1]\n",
    "labels = [\"Non-smokers\", \"Smokers\"]\n",
    "plt.boxplot([nonsmokers_fev1, smokers_fev1], labels = labels)\n",
    "plt.title('Boxplot for FEV1 levels in nonsmokers and smokers')\n",
    "plt.ylabel('FEV1 levels')\n",
    "plt.show()"
   ]
  },
  {
   "cell_type": "code",
   "execution_count": null,
   "metadata": {},
   "outputs": [],
   "source": []
  }
 ],
 "metadata": {
  "kernelspec": {
   "display_name": "ids",
   "language": "python",
   "name": "ids"
  },
  "language_info": {
   "codemirror_mode": {
    "name": "ipython",
    "version": 2
   },
   "file_extension": ".py",
   "mimetype": "text/x-python",
   "name": "python",
   "nbconvert_exporter": "python",
   "pygments_lexer": "ipython2",
   "version": "2.7.17"
  }
 },
 "nbformat": 4,
 "nbformat_minor": 4
}
