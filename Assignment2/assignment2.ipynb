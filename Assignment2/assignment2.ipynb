{
 "cells": [
  {
   "cell_type": "code",
   "execution_count": 1,
   "metadata": {},
   "outputs": [],
   "source": [
    "import numpy as np\n",
    "import numpy.linalg as npl\n",
    "# read in the data\n",
    "dataTrain = np.loadtxt('IDSWeedCropTrain.csv', delimiter = ',')\n",
    "dataTest = np.loadtxt('IDSWeedCropTest.csv', delimiter = ',')\n",
    "# split input variables and labels\n",
    "XTrain = dataTrain[:,:-1]\n",
    "YTrain = dataTrain[:,-1]\n",
    "XTest = dataTest[:,:-1]\n",
    "YTest = dataTest[:,-1]"
   ]
  },
  {
   "cell_type": "code",
   "execution_count": 2,
   "metadata": {},
   "outputs": [],
   "source": [
    "#Exercise 1\n",
    "def predict_one(Xvector, k, XTrain, YTrain):\n",
    "    '''Takes in a single vector of 13 values, and makes a prediction using X and Y training data for k nearest neighbors'''\n",
    "    distances = npl.norm(XTrain - Xvector, axis = 1) #create an array of dsitances between our vector and the training data\n",
    "    neighbor_index = select_neighbor_index(distances, k) #find the index of the k enarest neighbors\n",
    "    neighbors = YTrain[neighbor_index] #calculate the Y values of the k nearest neighbors\n",
    "    if sum(neighbors) > k/2: #if the majority of k values are 1, predict 1 else predict 0\n",
    "        return 1\n",
    "    else:\n",
    "        return 0\n",
    "\n",
    "def select_neighbor_index(distances, k):\n",
    "    '''Take in a vector of distances and calculate the k nearest neighbor indexes for them'''\n",
    "    sorted_distances = np.sort(distances) #create a sorted array\n",
    "    neighbor_distances = sorted_distances[:k] #take the first k values\n",
    "    neighbor_index = []\n",
    "    for i in neighbor_distances: #calculate the indexes for the first k values\n",
    "        ind = np.where(distances == i)[0][0]\n",
    "        neighbor_index.append(ind)\n",
    "    return neighbor_index\n",
    "    \n",
    "def knn_predict(XTest, k = 1, XTrain = XTrain, YTrain = YTrain):\n",
    "    '''Takes in an array of 13 values per row, and returns an array of predictions'''\n",
    "    Ypred = []\n",
    "    for i in XTest:\n",
    "        Ypred.append(predict_one(i, k, XTrain, YTrain))\n",
    "    Ypred = np.array(Ypred)\n",
    "    return Ypred"
   ]
  },
  {
   "cell_type": "code",
   "execution_count": 3,
   "metadata": {},
   "outputs": [
    {
     "name": "stdout",
     "output_type": "stream",
     "text": [
      "Accuracy on Training Data: 1.0\n",
      "Accuracy on Testing Data: 0.945993031358885\n"
     ]
    }
   ],
   "source": [
    "from sklearn.metrics import accuracy_score\n",
    "# given classifier called knn , compute the accuracy on the testset\n",
    "accTestTrain = accuracy_score(YTrain, knn_predict(XTrain))\n",
    "accTestTest = accuracy_score(YTest, knn_predict(XTest))\n",
    "print(\"Accuracy on Training Data: \" + str(accTestTrain))\n",
    "print(\"Accuracy on Testing Data: \" + str(accTestTest))"
   ]
  },
  {
   "cell_type": "code",
   "execution_count": 4,
   "metadata": {},
   "outputs": [
    {
     "name": "stdout",
     "output_type": "stream",
     "text": [
      "Loss for 1 neighbors: 0.046\n",
      "Loss for 3 neighbors: 0.037000000000000005\n",
      "Loss for 5 neighbors: 0.044\n",
      "Loss for 7 neighbors: 0.05\n",
      "Loss for 9 neighbors: 0.05499999999999999\n",
      "Loss for 11 neighbors: 0.055999999999999994\n",
      "Best k: 3\n"
     ]
    },
    {
     "data": {
      "text/plain": [
       "3"
      ]
     },
     "execution_count": 4,
     "metadata": {},
     "output_type": "execute_result"
    }
   ],
   "source": [
    "#Exercise 2\n",
    "from sklearn.model_selection import KFold\n",
    "\n",
    "def cross_validate(k, XTrain, YTrain):\n",
    "    '''For a value k, perform 5 fold cross validation for k nearest neighbors'''\n",
    "    loss_list = []\n",
    "    # create indices for CV\n",
    "    cv = KFold (n_splits = 5)\n",
    "    # loop over CV folds\n",
    "    for train, test in cv.split(XTrain):\n",
    "        XTrainCV, XTestCV, YTrainCV, YTestCV = XTrain[train], XTrain[test], YTrain[train], YTrain[test]\n",
    "        lossTest = loss(YTestCV, knn_predict(XTestCV, k, XTrainCV, YTrainCV))\n",
    "        loss_list.append(lossTest)\n",
    "    average_loss = np.mean(loss_list)\n",
    "    return average_loss\n",
    "\n",
    "def loss(true, predict):\n",
    "    '''Takes in a true array and a predicted array and returns the loss array'''\n",
    "    difference = (predict - true) ** 2 # square it to get positive values\n",
    "    loss = sum(difference)/len(difference)\n",
    "    return loss\n",
    "\n",
    "def find_best_k(k_list, XTrain=XTrain, YTrain=YTrain):\n",
    "    '''Given a list of ks, perform 5 fold cross validation for each k and return the best k'''\n",
    "    k_loss = []\n",
    "    for k in k_list:\n",
    "        loss = cross_validate(k, XTrain, YTrain)\n",
    "        k_loss.append(loss)\n",
    "        print(\"Loss for \"+ str(k) + \" neighbors: \" + str(loss))\n",
    "    ind = k_loss.index(min(k_loss))\n",
    "    best_k = k_list[ind]\n",
    "    print(\"Best k: \" + str(best_k))\n",
    "    return best_k\n",
    "\n",
    "k_list = [1,3,5,7,9,11]\n",
    "find_best_k(k_list)"
   ]
  },
  {
   "cell_type": "code",
   "execution_count": 5,
   "metadata": {},
   "outputs": [
    {
     "name": "stdout",
     "output_type": "stream",
     "text": [
      "Accuracy on Training Data: 0.971\n",
      "Accuracy on Testing Data: 0.9494773519163763\n"
     ]
    }
   ],
   "source": [
    "#Exercise 3\n",
    "best_acc_train = accuracy_score(YTrain, knn_predict(XTrain, k = 3))\n",
    "best_acc_test = accuracy_score(YTest, knn_predict(XTest, k = 3))\n",
    "print(\"Accuracy on Training Data: \" + str(best_acc_train))\n",
    "print(\"Accuracy on Testing Data: \" + str(best_acc_test))"
   ]
  },
  {
   "cell_type": "code",
   "execution_count": 6,
   "metadata": {},
   "outputs": [
    {
     "name": "stdout",
     "output_type": "stream",
     "text": [
      "Loss for 1 neighbors: 0.041\n",
      "Loss for 3 neighbors: 0.036000000000000004\n",
      "Loss for 5 neighbors: 0.044\n",
      "Loss for 7 neighbors: 0.047\n",
      "Loss for 9 neighbors: 0.048\n",
      "Loss for 11 neighbors: 0.051000000000000004\n",
      "Best k: 3\n",
      "Accuracy on Training Data: 0.972\n",
      "Accuracy on Testing Data: 0.9599303135888502\n"
     ]
    }
   ],
   "source": [
    "#Exercise 4\n",
    "def normalize_data(source, target):\n",
    "    '''Takes in a source array and a target array. Normalizes the target array based on the source array'''\n",
    "    mean = np.mean(source, axis = 0)\n",
    "    sd = np.std(source, axis = 0)\n",
    "    target = (target - mean)/sd\n",
    "    return target\n",
    "\n",
    "XTrain_norm = normalize_data(XTrain, XTrain)\n",
    "XTest_norm = normalize_data(XTrain, XTest)\n",
    "\n",
    "k_list = [1,3,5,7,9,11]\n",
    "k_best = find_best_k(k_list, XTrain=XTrain_norm)\n",
    "best_acc_train_norm = accuracy_score(YTrain, knn_predict(XTrain_norm, k = k_best, XTrain=XTrain_norm))\n",
    "best_acc_test_norm = accuracy_score(YTest, knn_predict(XTest_norm, k = k_best, XTrain=XTrain_norm))\n",
    "print(\"Accuracy on Training Data: \" + str(best_acc_train_norm))\n",
    "print(\"Accuracy on Testing Data: \" + str(best_acc_test_norm))"
   ]
  }
 ],
 "metadata": {
  "kernelspec": {
   "display_name": "Python 3",
   "language": "python",
   "name": "python3"
  },
  "language_info": {
   "codemirror_mode": {
    "name": "ipython",
    "version": 3
   },
   "file_extension": ".py",
   "mimetype": "text/x-python",
   "name": "python",
   "nbconvert_exporter": "python",
   "pygments_lexer": "ipython3",
   "version": "3.7.4"
  }
 },
 "nbformat": 4,
 "nbformat_minor": 4
}
