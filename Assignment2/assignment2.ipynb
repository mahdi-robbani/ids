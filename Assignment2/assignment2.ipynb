{
 "cells": [
  {
   "cell_type": "code",
   "execution_count": 2,
   "metadata": {},
   "outputs": [],
   "source": [
    "import numpy as np\n",
    "import numpy.linalg as npl\n",
    "# read in the data\n",
    "dataTrain = np.loadtxt('IDSWeedCropTrain.csv', delimiter = ',')\n",
    "dataTest = np.loadtxt('IDSWeedCropTest.csv', delimiter = ',')\n",
    "# split input variables and labels\n",
    "XTrain = dataTrain[:,:-1]\n",
    "YTrain = dataTrain[:,-1]\n",
    "XTest = dataTest[:,:-1]\n",
    "YTest = dataTest[:,-1]"
   ]
  },
  {
   "cell_type": "code",
   "execution_count": 35,
   "metadata": {},
   "outputs": [],
   "source": [
    "#Exercise 1\n",
    "def predict_one(Xvector, k, XTrain, YTrain):\n",
    "    '''Takes in a single vector of 13 values, and makes a prediction using X and Y training data for k nearest neighbors'''\n",
    "    distances = npl.norm(XTrain - Xvector, axis = 1) #create an array of dsitances between our vector and the training data\n",
    "    neighbor_index = select_neighbors(distances, k) #find the index of the k enarest neighbors\n",
    "    neighbors = YTrain[neighbor_index] #calculate the Y values of the k nearest neighbors\n",
    "    if sum(neighbors) > k/2: #if the majority of k values are 1, predict 1 else predict 0\n",
    "        return 1\n",
    "    else:\n",
    "        return 0\n",
    "\n",
    "def select_neighbor_index(distances, k):\n",
    "    '''Take in a vector of distances and calculate the k nearest neighbor indexes for them'''\n",
    "    sorted_distances = np.sort(distances) #create a sorted array\n",
    "    neighbor_distances = sorted_distances[:k] #take the first k values\n",
    "    neighbor_index = []\n",
    "    for i in neighbor_distances: #calculate the indexes for the first k values\n",
    "        ind = np.where(distances == i)[0][0]\n",
    "        neighbor_index.append(ind)\n",
    "    return neighbor_index\n",
    "    \n",
    "def knn_predict(XTest, k = 1, XTrain = XTrain, YTrain = YTrain):\n",
    "    '''Takes in an array of 13 values per row, and returns an array of predictions'''\n",
    "    Ypred = []\n",
    "    for i in XTest:\n",
    "        Ypred.append(predict_one(i, k, XTrain, YTrain))\n",
    "    Ypred = np.array(Ypred)\n",
    "    return Ypred"
   ]
  },
  {
   "cell_type": "code",
   "execution_count": 36,
   "metadata": {},
   "outputs": [
    {
     "name": "stdout",
     "output_type": "stream",
     "text": [
      "Accuracy: 0.945993031358885\n"
     ]
    }
   ],
   "source": [
    "from sklearn.metrics import accuracy_score\n",
    "# given classifier called knn , compute the accuracy on the testset\n",
    "accTest = accuracy_score(YTest, knn_predict(XTest))\n",
    "print(\"Accuracy: \" + str(accTest))"
   ]
  },
  {
   "cell_type": "code",
   "execution_count": 50,
   "metadata": {},
   "outputs": [
    {
     "name": "stdout",
     "output_type": "stream",
     "text": [
      "Loss for 1 neighbors: 0.04600000000000004\n",
      "Loss for 3 neighbors: 0.037000000000000144\n",
      "Loss for 5 neighbors: 0.04399999999999993\n",
      "Loss for 7 neighbors: 0.050000000000000044\n",
      "Loss for 9 neighbors: 0.05500000000000005\n",
      "Loss for 11 neighbors: 0.05600000000000005\n",
      "Best k: 3\n"
     ]
    },
    {
     "data": {
      "text/plain": [
       "3"
      ]
     },
     "execution_count": 50,
     "metadata": {},
     "output_type": "execute_result"
    }
   ],
   "source": [
    "#Exercise 2\n",
    "from sklearn.model_selection import KFold\n",
    "\n",
    "def cross_validate(k, XTrain, YTrain, XTest, YTest):\n",
    "    '''For a value k, perform 5 fold cross validation for k nearest neighbors'''\n",
    "    accuracy_list = []\n",
    "    # create indices for CV\n",
    "    cv = KFold (n_splits = 5)\n",
    "    # loop over CV folds\n",
    "    for train, test in cv.split(XTrain):\n",
    "        XTrainCV, XTestCV, YTrainCV, YTestCV = XTrain[train], XTrain[test], YTrain[train], YTrain[test]\n",
    "        accTest = accuracy_score(YTestCV, knn_predict(XTestCV, k, XTrainCV, YTrainCV))\n",
    "        accuracy_list.append(accTest)\n",
    "    return np.mean(accuracy_list)\n",
    "\n",
    "def k_best(k_list, XTrain=XTrain, YTrain=YTrain, XTest=XTest, YTest=YTest):\n",
    "    '''Given a list of ks, perform 5 fold cross validation for each k and return the best k'''\n",
    "    k_loss = []\n",
    "    for k in k_list:\n",
    "        accuracy = cross_validate(k, XTrain, YTrain, XTest, YTest)\n",
    "        loss = 1 - accuracy\n",
    "        k_loss.append(loss)\n",
    "        print(\"Loss for \"+ str(k) + \" neighbors: \" + str(loss))\n",
    "    ind = k_loss.index(min(k_loss))\n",
    "    best_k = k_list[ind]\n",
    "    print(\"Best k: \" + str(best_k))\n",
    "    return best_k\n",
    "\n",
    "k_list = [1,3,5,7,9,11]\n",
    "k_best(k_list)"
   ]
  },
  {
   "cell_type": "code",
   "execution_count": 49,
   "metadata": {},
   "outputs": [
    {
     "name": "stdout",
     "output_type": "stream",
     "text": [
      "Accuracy: 0.9494773519163763\n"
     ]
    }
   ],
   "source": [
    "#Exercise 3\n",
    "best_acc = accuracy_score(YTest, knn_predict(XTest, k = 3))\n",
    "print(\"Accuracy: \" + str(best_acc))"
   ]
  },
  {
   "cell_type": "code",
   "execution_count": null,
   "metadata": {},
   "outputs": [],
   "source": [
    "#Exercise 4"
   ]
  }
 ],
 "metadata": {
  "kernelspec": {
   "display_name": "ids",
   "language": "python",
   "name": "ids"
  },
  "language_info": {
   "codemirror_mode": {
    "name": "ipython",
    "version": 2
   },
   "file_extension": ".py",
   "mimetype": "text/x-python",
   "name": "python",
   "nbconvert_exporter": "python",
   "pygments_lexer": "ipython2",
   "version": "2.7.17"
  }
 },
 "nbformat": 4,
 "nbformat_minor": 4
}
