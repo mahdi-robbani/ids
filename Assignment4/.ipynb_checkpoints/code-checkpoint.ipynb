{
 "cells": [
  {
   "cell_type": "code",
   "execution_count": null,
   "metadata": {},
   "outputs": [],
   "source": [
    "#Exercise 1\n",
    "import numpy as np\n",
    "import matplotlib.pyplot as plt\n",
    "from plot import *\n",
    "from pca import *\n",
    "from kmc import *\n",
    "\n",
    "# load data\n",
    "diatoms = np.loadtxt(\"diatoms.txt\")\n",
    "col = np.shape(diatoms)[1] #number of columns\n",
    "x_coord = diatoms[:, 0:col:2] #select alternate columns starting from 0\n",
    "y_coord = diatoms[:, 1:col:2] #select alternate columns starting from 1\n",
    "x_coord = np.concatenate((x_coord, x_coord[:, :1]), axis = 1) #add first x point to the end\n",
    "y_coord = np.concatenate((y_coord, y_coord[:, :1]), axis = 1) #add first y point to the end\n",
    "save = False\n",
    "\n",
    "# plot 1\n",
    "plt.plot(x_coord[0], y_coord[0], color = \"gray\")\n",
    "plot_template(title = \"Plot of first diatom\", save = save)"
   ]
  },
  {
   "cell_type": "code",
   "execution_count": null,
   "metadata": {},
   "outputs": [],
   "source": [
    "# plot all\n",
    "for i in range(len(x_coord)):\n",
    "    plt.plot(x_coord[i], y_coord[i], color = \"gray\", alpha = 0.1)\n",
    "plot_template(title = \"Plot of all diatoms\", save = save)"
   ]
  },
  {
   "cell_type": "code",
   "execution_count": null,
   "metadata": {},
   "outputs": [],
   "source": [
    "# Exercise 2\n",
    "diatom_T = np.concatenate((x_coord.T, y_coord.T))\n",
    "mean_diatom = np.mean(diatom_T, 1)\n",
    "cov_matrix = np.cov(diatom_T)\n",
    "diatom_eval, diatom_evec = np.linalg.eig(cov_matrix)\n",
    "\n",
    "def plot_along_pc(p, n, save, data = diatom_T, eigenvalues = diatom_eval, eigenvectors = diatom_evec, mean_diatom = mean_diatom):\n",
    "    \"\"\"\n",
    "    Takes in prinical component numner and plots n diatoms. \n",
    "    If you want to plot the first PC, use p = 1\n",
    "    \"\"\"\n",
    "    pc_n = p - 1 #correct for python index\n",
    "    principal_component = eigenvectors[:,pc_n] #select principal component\n",
    "    eigenvalue = eigenvalues[pc_n] # select eigenvalue\n",
    "    std = np.sqrt(eigenvalue)\n",
    "    l = len(data)\n",
    "    diatoms_along_pc = np.zeros((n, l)) # create empty matrix\n",
    "    for i in range(n):\n",
    "        diatoms_along_pc[i,:] = mean_diatom + (i-np.floor(n/2))*std*principal_component\n",
    "        plt.plot(diatoms_along_pc[i, :int(l/2)], diatoms_along_pc[i, int(l/2):], label = i, color = (0, i/n, i/n))\n",
    "    title = \"Diatoms along Principal Component \"+ str(p)\n",
    "    plot_template(title = title, save = save)"
   ]
  },
  {
   "cell_type": "code",
   "execution_count": null,
   "metadata": {},
   "outputs": [],
   "source": [
    "plot_along_pc(1, 5, save)"
   ]
  },
  {
   "cell_type": "code",
   "execution_count": null,
   "metadata": {},
   "outputs": [],
   "source": [
    "plot_along_pc(2, 5, save)"
   ]
  },
  {
   "cell_type": "code",
   "execution_count": null,
   "metadata": {},
   "outputs": [],
   "source": [
    "plot_along_pc(3, 5, save)"
   ]
  },
  {
   "cell_type": "code",
   "execution_count": null,
   "metadata": {},
   "outputs": [],
   "source": [
    "# Exercise 3b\n",
    "toy = np.loadtxt(\"pca_toydata.txt\")\n",
    "mds_plot(toy, \"Principal Component Analysis of Toy dataset\", save)"
   ]
  },
  {
   "cell_type": "code",
   "execution_count": null,
   "metadata": {},
   "outputs": [],
   "source": [
    "toy2 = toy[:-2,:]\n",
    "mds_plot(toy2, \"Principal Component Analysis of modified Toy dataset\", save)"
   ]
  },
  {
   "cell_type": "code",
   "execution_count": null,
   "metadata": {},
   "outputs": [],
   "source": [
    "# Exercise 4\n",
    "#load data\n",
    "pesticide = np.loadtxt('IDSWeedCropTrain.csv', delimiter = ',')\n",
    "pesticide_label = pesticide[:,-1]\n",
    "pesticide = pesticide[:,:-1]\n",
    "pesticide = center_data(pesticide)\n",
    "\n",
    "#transform and separate\n",
    "centroids = kmean(2, pesticide)\n",
    "trasformed_centroids = mds(np.array(centroids), pesticide, 2)\n",
    "print(f\"Centroid 1 Projection: {trasformed_centroids[0]}\")\n",
    "print(f\"Centroid 2 Projection: {trasformed_centroids[1]}\")\n",
    "\n",
    "transformed_pesticide = mds(pesticide, pesticide, 2)\n",
    "weed = transformed_pesticide[pesticide_label == 0]\n",
    "crop = transformed_pesticide[pesticide_label == 1]\n",
    "\n",
    "# plot\n",
    "plt.scatter(crop[:,0], crop[:,1], alpha = 0.9, label = \"Crop\", ec = \"black\", zorder = 2, color = 'salmon')\n",
    "plt.scatter(weed[:,0], weed[:,1], alpha = 0.8, label = \"Weed\", ec = \"black\", zorder = 2)\n",
    "plt.scatter(trasformed_centroids[0,0], trasformed_centroids[0,1], \n",
    "            color = \"red\", ec = \"black\", marker = \"X\", s = 100, label = \"Centroid\", zorder = 3)\n",
    "plt.scatter(trasformed_centroids[1,0], trasformed_centroids[1,1], \n",
    "            color = \"cyan\", ec = \"black\", marker = \"X\", s = 100, label = \"Centroid\", zorder = 3)\n",
    "plot_template(title = 'Principal Component Analysis of Pesticide data',\n",
    "              xlabel = 'Principcal Component 1',\n",
    "              ylabel = 'Principcal Component 2',\n",
    "              legend = True,\n",
    "              save = save)"
   ]
  }
 ],
 "metadata": {
  "kernelspec": {
   "display_name": "Python 3",
   "language": "python",
   "name": "python3"
  },
  "language_info": {
   "codemirror_mode": {
    "name": "ipython",
    "version": 3
   },
   "file_extension": ".py",
   "mimetype": "text/x-python",
   "name": "python",
   "nbconvert_exporter": "python",
   "pygments_lexer": "ipython3",
   "version": "3.7.4"
  }
 },
 "nbformat": 4,
 "nbformat_minor": 4
}
