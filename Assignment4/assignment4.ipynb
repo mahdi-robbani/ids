{
 "cells": [
  {
   "cell_type": "markdown",
   "metadata": {},
   "source": [
    "Exercise 1 (Plotting cell shapes, 10 points). Plot one of the cells by plotting the landmark points\n",
    "and interpolating between subsequent landmark points.\n",
    "Next, plot all the cells on top of each other. Can you see any dataset tendencies from this plot?\n",
    "When plotting, make sure to make the axes equal to get the right dimensions. If you use matplotlyb.pyplot\n",
    "this can be done by typing plt.axis('equal')."
   ]
  },
  {
   "cell_type": "code",
   "execution_count": 61,
   "metadata": {},
   "outputs": [
    {
     "data": {
      "text/plain": [
       "<Figure size 432x288 with 0 Axes>"
      ]
     },
     "metadata": {},
     "output_type": "display_data"
    }
   ],
   "source": [
    "#Exercise 1\n",
    "import numpy as np\n",
    "import matplotlib.pyplot as plt\n",
    "from plot import *\n",
    "from pca import *\n",
    "from kmc import *\n",
    "\n",
    "# load data\n",
    "diatoms = np.loadtxt(\"diatoms.txt\")\n",
    "col = np.shape(diatoms)[1] #number of columns\n",
    "x_coord = diatoms[:, 0:col:2] #select alternate columns starting from 0\n",
    "y_coord = diatoms[:, 1:col:2] #select alternate columns starting from 1\n",
    "x_coord = np.concatenate((x_coord, x_coord[:, :1]), axis = 1) #add first x point to the end\n",
    "y_coord = np.concatenate((y_coord, y_coord[:, :1]), axis = 1) #add first y point to the end\n",
    "save = False\n",
    "\n",
    "# plot 1\n",
    "plt.plot(x_coord[0], y_coord[0], color = \"gray\")\n",
    "plot_template(title = \"Plot of first diatom\", save = save)"
   ]
  },
  {
   "cell_type": "code",
   "execution_count": 62,
   "metadata": {},
   "outputs": [
    {
     "data": {
      "text/plain": [
       "<Figure size 432x288 with 0 Axes>"
      ]
     },
     "metadata": {},
     "output_type": "display_data"
    }
   ],
   "source": [
    "# plot all\n",
    "for i in range(len(x_coord)):\n",
    "    plt.plot(x_coord[i], y_coord[i], color = \"gray\", alpha = 0.1)\n",
    "plot_template(title = \"Plot of all diatoms\", save = save)"
   ]
  },
  {
   "cell_type": "markdown",
   "metadata": {},
   "source": [
    "The diatoms become fatter and less elongated."
   ]
  },
  {
   "cell_type": "code",
   "execution_count": 63,
   "metadata": {},
   "outputs": [],
   "source": [
    "# Exercise 2\n",
    "diatom_T = np.concatenate((x_coord.T, y_coord.T))\n",
    "mean_diatom = np.mean(diatom_T, 1)\n",
    "cov_matrix = np.cov(diatom_T)\n",
    "diatom_eval, diatom_evec = np.linalg.eig(cov_matrix)\n",
    "\n",
    "def plot_along_pc(p, n, save, data = diatom_T, eigenvalues = diatom_eval, eigenvectors = diatom_evec, mean_diatom = mean_diatom):\n",
    "    \"\"\"\n",
    "    Takes in prinical component numner and plots n diatoms. \n",
    "    If you want to plot the first PC, use p = 1\n",
    "    \"\"\"\n",
    "    pc_n = p - 1 #correct for python index\n",
    "    principal_component = eigenvectors[:,pc_n] #select principal component\n",
    "    eigenvalue = eigenvalues[pc_n] # select eigenvalue\n",
    "    std = np.sqrt(eigenvalue)\n",
    "    l = len(data)\n",
    "    diatoms_along_pc = np.zeros((n, l)) # create empty matrix\n",
    "    for i in range(n):\n",
    "        diatoms_along_pc[i,:] = mean_diatom + (i-np.floor(n/2))*std*principal_component\n",
    "        plt.plot(diatoms_along_pc[i, :int(l/2)], diatoms_along_pc[i, int(l/2):], label = i, color = (0, i/n, i/n))\n",
    "    title = \"Diatoms along Principal Component \"+ str(p)\n",
    "    plot_template(title = title, save = save)\n",
    "    "
   ]
  },
  {
   "cell_type": "code",
   "execution_count": 64,
   "metadata": {},
   "outputs": [
    {
     "data": {
      "text/plain": [
       "<Figure size 432x288 with 0 Axes>"
      ]
     },
     "metadata": {},
     "output_type": "display_data"
    }
   ],
   "source": [
    "plot_along_pc(1, 5, save)"
   ]
  },
  {
   "cell_type": "code",
   "execution_count": 65,
   "metadata": {},
   "outputs": [
    {
     "data": {
      "text/plain": [
       "<Figure size 432x288 with 0 Axes>"
      ]
     },
     "metadata": {},
     "output_type": "display_data"
    }
   ],
   "source": [
    "plot_along_pc(2, 5, save)"
   ]
  },
  {
   "cell_type": "code",
   "execution_count": 66,
   "metadata": {},
   "outputs": [
    {
     "data": {
      "text/plain": [
       "<Figure size 432x288 with 0 Axes>"
      ]
     },
     "metadata": {},
     "output_type": "display_data"
    }
   ],
   "source": [
    "plot_along_pc(3, 5, save)"
   ]
  },
  {
   "cell_type": "markdown",
   "metadata": {},
   "source": [
    "Principal component 1 captures the tendancy of the diatoms to becme fatter and less elongated.\n",
    "Principal component 2 captures I DONT KNOW HOW TO DESCRIBE THIS\n",
    "Principal component 3 captures I DONT KNOW HOW TO DESCRIBE THIS"
   ]
  },
  {
   "cell_type": "markdown",
   "metadata": {},
   "source": [
    "# Exercise 3\n",
    "1. Assume that you perform each of the following preprocessing steps prior to performing PCA. What is the effect on the PCA result? Is it a good idea?\n",
    "    1. Centering  \n",
    "    Yes, it is a good idea\n",
    "    2. Standardization  \n",
    "    It is a good idea if the dataset consists of different units of measurement. Actually I think it's always a good idea\n",
    "    3. Whitening  \n",
    "    Apparently this is very bad. Google this shit"
   ]
  },
  {
   "cell_type": "code",
   "execution_count": 67,
   "metadata": {},
   "outputs": [
    {
     "data": {
      "text/plain": [
       "<Figure size 432x288 with 0 Axes>"
      ]
     },
     "metadata": {},
     "output_type": "display_data"
    }
   ],
   "source": [
    "# Exercise 3b\n",
    "toy = np.loadtxt(\"pca_toydata.txt\")\n",
    "mds_plot(toy, \"Principal Component Analysis of Toy dataset\", save)"
   ]
  },
  {
   "cell_type": "code",
   "execution_count": 68,
   "metadata": {},
   "outputs": [
    {
     "data": {
      "text/plain": [
       "<Figure size 432x288 with 0 Axes>"
      ]
     },
     "metadata": {},
     "output_type": "display_data"
    }
   ],
   "source": [
    "toy2 = toy[:-2,:]\n",
    "mds_plot(toy2, \"Principal Component Analysis of modified Toy dataset\", save)"
   ]
  },
  {
   "cell_type": "markdown",
   "metadata": {},
   "source": [
    "The dot in the center disappears"
   ]
  },
  {
   "cell_type": "code",
   "execution_count": 69,
   "metadata": {},
   "outputs": [
    {
     "name": "stdout",
     "output_type": "stream",
     "text": [
      "Centroid 1 Projection: [-1596.80176436   123.75257989]\n",
      "Centroid 2 Projection: [1404.7053115  -108.86505148]\n"
     ]
    },
    {
     "data": {
      "text/plain": [
       "<Figure size 432x288 with 0 Axes>"
      ]
     },
     "metadata": {},
     "output_type": "display_data"
    }
   ],
   "source": [
    "# Exercise 4\n",
    "#load data\n",
    "pesticide = np.loadtxt('IDSWeedCropTrain.csv', delimiter = ',')\n",
    "pesticide_label = pesticide[:,-1]\n",
    "pesticide = pesticide[:,:-1]\n",
    "pesticide = center_data(pesticide)\n",
    "\n",
    "#transform and separate\n",
    "centroids = kmean(2, pesticide)\n",
    "trasformed_centroids = mds(np.array(centroids), pesticide, 2)\n",
    "print(f\"Centroid 1 Projection: {trasformed_centroids[0]}\")\n",
    "print(f\"Centroid 2 Projection: {trasformed_centroids[1]}\")\n",
    "\n",
    "transformed_pesticide = mds(pesticide, pesticide, 2)\n",
    "weed = transformed_pesticide[pesticide_label == 0]\n",
    "crop = transformed_pesticide[pesticide_label == 1]\n",
    "\n",
    "# plot\n",
    "plt.scatter(crop[:,0], crop[:,1], alpha = 0.9, label = \"Crop\", ec = \"black\", zorder = 2, color = 'salmon')\n",
    "plt.scatter(weed[:,0], weed[:,1], alpha = 0.8, label = \"Weed\", ec = \"black\", zorder = 2)\n",
    "plt.scatter(trasformed_centroids[0,0], trasformed_centroids[0,1], \n",
    "            color = \"red\", ec = \"black\", marker = \"X\", s = 100, label = \"Centroid\", zorder = 3)\n",
    "plt.scatter(trasformed_centroids[1,0], trasformed_centroids[1,1], \n",
    "            color = \"cyan\", ec = \"black\", marker = \"X\", s = 100, label = \"Centroid\", zorder = 3)\n",
    "plot_template(title = 'Principal Component Analysis of Pesticide data',\n",
    "              xlabel = 'Principcal Component 1',\n",
    "              ylabel = 'Principcal Component 2',\n",
    "              legend = True,\n",
    "              save = save)"
   ]
  },
  {
   "cell_type": "markdown",
   "metadata": {},
   "source": [
    "## Description of software\n",
    "I don't know man, this is the same shit as before\n",
    "## Discussiom\n",
    "The two clusters capture most of the crops and weeds, but some of the points overlap and the clustering misclassifies them."
   ]
  },
  {
   "cell_type": "code",
   "execution_count": null,
   "metadata": {},
   "outputs": [],
   "source": []
  },
  {
   "cell_type": "code",
   "execution_count": null,
   "metadata": {},
   "outputs": [],
   "source": []
  },
  {
   "cell_type": "code",
   "execution_count": 70,
   "metadata": {},
   "outputs": [
    {
     "data": {
      "text/plain": [
       "<matplotlib.collections.PathCollection at 0x1ca3bf9c608>"
      ]
     },
     "execution_count": 70,
     "metadata": {},
     "output_type": "execute_result"
    },
    {
     "data": {
      "image/png": "[encoded data removed]",
      "text/plain": [
       "<Figure size 432x288 with 1 Axes>"
      ]
     },
     "metadata": {
      "needs_background": "light"
     },
     "output_type": "display_data"
    }
   ],
   "source": [
    "# find closest cluser\n",
    "#NO NEED ANYMORE\n",
    "\n",
    "clusters = get_cluster(centroids, pesticide)\n",
    "cluster1 = transformed_pesticide[clusters[0]]\n",
    "cluster2 = transformed_pesticide[clusters[1]]\n",
    "\n",
    "\n",
    "\n",
    "plt.scatter(cluster1[:,0], cluster1[:,1])\n",
    "plt.scatter(cluster2[:,0], cluster2[:,1], color = 'salmon')\n",
    "plt.scatter(trasformed_centroids[0,0], trasformed_centroids[0,1], color = \"blue\", marker = \"X\")\n",
    "plt.scatter(trasformed_centroids[1,0], trasformed_centroids[1,1], color = \"red\", marker = \"X\")"
   ]
  }
 ],
 "metadata": {
  "kernelspec": {
   "display_name": "Python 3",
   "language": "python",
   "name": "python3"
  },
  "language_info": {
   "codemirror_mode": {
    "name": "ipython",
    "version": 3
   },
   "file_extension": ".py",
   "mimetype": "text/x-python",
   "name": "python",
   "nbconvert_exporter": "python",
   "pygments_lexer": "ipython3",
   "version": "3.7.4"
  }
 },
 "nbformat": 4,
 "nbformat_minor": 4
}
